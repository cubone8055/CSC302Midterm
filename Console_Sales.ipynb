{
  "nbformat": 4,
  "nbformat_minor": 0,
  "metadata": {
    "colab": {
      "name": "Console Sales",
      "provenance": [],
      "collapsed_sections": []
    },
    "kernelspec": {
      "name": "python3",
      "display_name": "Python 3"
    },
    "language_info": {
      "name": "python"
    }
  },
  "cells": [
    {
      "cell_type": "code",
      "execution_count": null,
      "metadata": {
        "id": "Rg-rXxub0pVf"
      },
      "outputs": [],
      "source": [
        "import pandas as pd\n",
        "import matplotlib.pyplot as plt\n",
        "\n",
        "df = pd.read_csv('/content/drive/Shareddrives/302 Project/Data/GameSales.csv')\n",
        "df = df[df['total_sales'].notna()]\n",
        "df = df.groupby(by=\"console\")[\"total_sales\"].sum().reset_index()\n",
        "df = df.sort_values(by=\"total_sales\", ascending=False)"
      ]
    },
    {
      "cell_type": "code",
      "source": [
        "plot = df.head(15).plot.bar(x=\"console\", y=\"total_sales\", legend=False)\n",
        "plt.xlabel(\"Console Name\")\n",
        "plt.ylabel(\"Total Sales (Millions)\")"
      ],
      "metadata": {
        "colab": {
          "base_uri": "https://localhost:8080/",
          "height": 313
        },
        "id": "BNfAGqoO16cN",
        "outputId": "1188f4b6-eae1-407b-899a-7c69e0f547b5"
      },
      "execution_count": null,
      "outputs": [
        {
          "output_type": "execute_result",
          "data": {
            "text/plain": [
              "Text(0, 0.5, 'Total Sales (Millions)')"
            ]
          },
          "metadata": {},
          "execution_count": 41
        },
        {
          "output_type": "display_data",
          "data": {
            "image/png": "[encoded data removed]",
            "text/plain": [
              "<Figure size 432x288 with 1 Axes>"
            ]
          },
          "metadata": {
            "needs_background": "light"
          }
        }
      ]
    }
  ]
}