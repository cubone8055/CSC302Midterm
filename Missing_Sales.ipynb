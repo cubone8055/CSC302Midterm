{
  "nbformat": 4,
  "nbformat_minor": 0,
  "metadata": {
    "colab": {
      "name": "Missing Sales",
      "provenance": [],
      "collapsed_sections": []
    },
    "kernelspec": {
      "name": "python3",
      "display_name": "Python 3"
    },
    "language_info": {
      "name": "python"
    }
  },
  "cells": [
    {
      "cell_type": "code",
      "execution_count": null,
      "metadata": {
        "colab": {
          "base_uri": "https://localhost:8080/",
          "height": 306
        },
        "id": "z9Wc1UgwT2VW",
        "outputId": "08dee842-fa27-426e-ba96-4692cb32b865"
      },
      "outputs": [
        {
          "output_type": "execute_result",
          "data": {
            "text/plain": [
              "Text(0, 0.5, 'Missing Sales Values')"
            ]
          },
          "metadata": {},
          "execution_count": 62
        },
        {
          "output_type": "display_data",
          "data": {
            "image/png": "[encoded data removed]",
            "text/plain": [
              "<Figure size 432x288 with 1 Axes>"
            ]
          },
          "metadata": {
            "needs_background": "light"
          }
        }
      ],
      "source": [
        "import pandas as pd\n",
        "import matplotlib.pyplot as plt\n",
        "\n",
        "df = pd.read_csv('/content/drive/Shareddrives/302 Project/Data/GameSales.csv')\n",
        "df2 = df[\"total_sales\"].isnull().groupby([df['console']]).sum().astype(int).reset_index(name='count')\n",
        "df2 = df2.sort_values('count', ascending=False)\n",
        "plot = df2.head().plot.bar(x=\"console\", y=[\"total_sales\"].sort(), legend=False)\n",
        "plt.xlabel(\"Console Name\")\n",
        "plt.ylabel(\"Missing Sales Values\")\n"
      ]
    }
  ]
}